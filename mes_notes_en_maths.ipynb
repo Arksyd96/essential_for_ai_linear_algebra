{
 "cells": [
  {
   "cell_type": "markdown",
   "metadata": {},
   "source": [
    "# **Linear algebra**\n",
    "### <u>Vectors:</u>\n",
    "Vectors can be interpreted differently depending on the context. Originally, in mathematics and physics, vectors were used to describe a direction and magnitude. Most common vectors are Euclidean vectors, which carries a point $A$ to a point $B$ in a straight line, noted $\\vec{AB}$. The magnitude of $\\vec{AB}$ is the distance between $A$ and $B$. The direction of $\\vec{AB}$ is the angle between straight line $\\vec{AB}$ and the unit vector $\\vec{O}$ (arrow that defines the abscissa, acts like an origin of the vector space).\n",
    "\n",
    "In computer science, a vector is a sequence of numbers defined as a one dimensional array. Unlike Euclidean vectors, vectors in computer science are not necessarily straight lines. For example, a vector can be a sequence of numbers that represent a point in a two dimensional space or more. Those numbers are called scalars. A scalar is just a floating point number, and can also be seen as a real number even in the Euclidean geometry.\n",
    "\n",
    "We count two types of vectors: row vectors and column vectors. Row vectors are defined as arrays of one line and multiple columns, while column vectors are defined as arrays of multiple lines and one column.\n",
    "\n",
    "$$V_{row} = \\begin{bmatrix}x_0 & x_1 & x_2\\end{bmatrix}, V_{column} = \\begin{bmatrix}x_0 \\\\ x_1 \\\\ x_2\\end{bmatrix} $$\n",
    "\n",
    "Row vector can also be called a 0-rank vector, and column vector can be called a 1-rank vector. This naming convention comes from the dimension of each one of the vectors. Dimension of a vector can be defined as $(n, 1)$ or $(1, n)$, and the position of the $1$ indicates whether it is a row or a column vector.\n"
   ]
  },
  {
   "cell_type": "code",
   "execution_count": null,
   "metadata": {},
   "outputs": [],
   "source": []
  }
 ],
 "metadata": {
  "interpreter": {
   "hash": "80112827eb6ff0e0e99643afeb06c6ff1a42a8eff6a0c89f515b676ff99d7bc7"
  },
  "kernelspec": {
   "display_name": "Python 3.7.13 ('work')",
   "language": "python",
   "name": "python3"
  },
  "language_info": {
   "codemirror_mode": {
    "name": "ipython",
    "version": 3
   },
   "file_extension": ".py",
   "mimetype": "text/x-python",
   "name": "python",
   "nbconvert_exporter": "python",
   "pygments_lexer": "ipython3",
   "version": "3.7.13"
  },
  "orig_nbformat": 4
 },
 "nbformat": 4,
 "nbformat_minor": 2
}
