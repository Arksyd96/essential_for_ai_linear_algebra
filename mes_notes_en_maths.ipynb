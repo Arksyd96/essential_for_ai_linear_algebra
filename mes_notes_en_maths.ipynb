{
 "cells": [
  {
   "cell_type": "markdown",
   "metadata": {},
   "source": [
    "# **Linear algebra**\n",
    "### <u>Vectors:</u>\n",
    "#### 1. *Definition*\n",
    "Vectors can be interpreted differently depending on the context. Originally, in mathematics and physics, vectors were used to describe a direction and magnitude. Most common vectors are Euclidean vectors, which carries a point $A$ to a point $B$ in a straight line, noted $\\vec{AB}$. The magnitude of $\\vec{AB}$ is the distance between $A$ and $B$. The direction of $\\vec{AB}$ is the angle between straight line $\\vec{AB}$ and the unit vector $\\vec{O}$ (arrow that defines the abscissa, acts like an origin of the vector space).\n",
    "\n",
    "In computer science, a vector is a sequence of numbers defined as a one dimensional array. Unlike Euclidean vectors, vectors in computer science are not necessarily straight lines. For example, a vector can be a sequence of numbers that represent a point in a two dimensional space or more. Those numbers are called scalars. A scalar is just a floating point number, and can also be seen as a real number even in the Euclidean geometry.\n",
    "\n",
    "We count two types of vectors: row vectors and column vectors. Row vectors are defined as arrays of one line and multiple columns, while column vectors are defined as arrays of multiple lines and one column.\n",
    "\n",
    "$$V_{row} = \\begin{bmatrix}x_0 & x_1 & x_2\\end{bmatrix}, V_{column} = \\begin{bmatrix}x_0 \\\\ x_1 \\\\ x_2\\end{bmatrix} $$\n",
    "\n",
    "**Note**: A vector space is simply a set of vectors.\n",
    "\n",
    "#### 2. *Arithmetic operations*\n",
    "Suppose $V_A$ and $V_B$ are vectors. We can add them together, subtract them, multiply them, and divide them as long as the dimensions are the same.\n",
    "$$V_A + V_B = \\begin{bmatrix}x_0 + y_0 & x_1 + y_1 & ... & x_n + y_n\\end{bmatrix}$$\n",
    "Where $n$ is the number of elements in the vectors.  \n",
    "We can also multiply a vector by a scalar.\n",
    "$$V_A \\times c = \\begin{bmatrix}x_0 \\times c & x_1 \\times c & ... & x_n \\times c\\end{bmatrix}$$"
   ]
  },
  {
   "cell_type": "code",
   "execution_count": 13,
   "metadata": {},
   "outputs": [
    {
     "name": "stdout",
     "output_type": "stream",
     "text": [
      "[5 7 9] [-3 -3 -3] [ 4 10 18] [0.25 0.4  0.5 ]\n",
      "[4 5 6] [-2 -1  0] [3 6 9] [0.33333333 0.66666667 1.        ]\n"
     ]
    }
   ],
   "source": [
    "import numpy as np\n",
    "a, b = np.array([1, 2, 3]), np.array([4, 5, 6])\n",
    "print(a + b, a - b, a * b, a / b)\n",
    "\n",
    "c = 3\n",
    "print(a + c, a - c, a * c, a / c)"
   ]
  },
  {
   "cell_type": "markdown",
   "metadata": {},
   "source": [
    "#### 3. *Inner product (dot product):*\n",
    "The inner product of two vectors $V_A$ and $V_B$ is the sum of the products of the corresponding elements:\n",
    "$$\\langle V_A, V_B \\rangle = \\sum_{i=0}^{n} x_i \\times y_i$$\n",
    "$\\langle V_A, V_B \\rangle$ can also be written as $V_A \\cdot V_B$."
   ]
  },
  {
   "cell_type": "code",
   "execution_count": 20,
   "metadata": {},
   "outputs": [
    {
     "name": "stdout",
     "output_type": "stream",
     "text": [
      "[1 2 3] [4 5 6] inner product = 32\n"
     ]
    }
   ],
   "source": [
    "print(a, b, 'inner product = {}'.format(np.dot(a, b)))"
   ]
  },
  {
   "cell_type": "markdown",
   "metadata": {},
   "source": [
    "#### 4. *Norms:*\n",
    "The norm of a vector $V_A$ is a function that outputs a non-negative real number $norm: X \\rightarrow \\mathbb{R}$ where $X$ is the vector space. This real number can have different meanings depending on the context. For example, the Euclidean norm or 2-norm can be used to measure the distance from the origin.\n",
    "$$|V_A|_2 = \\sqrt{\\sum_{i=0}^{n} x_i^2}$$\n",
    "The absolute value of a vector is a 1-norm and is represents the magnitude of the vector.\n",
    "\n",
    "**p-norm:** normalization comes in a more general formula noted as $\\mathbf{l}_p$-norm. where $p > 0$.\n",
    "- $p = 1$: the 1-norm is the absolute value of the vector, also called Taxicab norm or Manhattan norm.\n",
    "$$|V_A|_1 = \\sum_{i=0}^{n} |x_i|$$\n",
    "- $p = 2$: the 2-norm is the Euclidean norm.\n",
    "$$|V_A|_2 = \\sqrt{\\sum_{i=0}^{n} x_i^2}$$\n",
    "- $p > 2$: the p-norm is the p-th root of the sum of the p-th powers of the elements of the vector.\n",
    "$$|V_A|_p = \\left({\\sum_{i=0}^{n} |x_i|^p}\\right)^{\\frac{1}{p}}$$"
   ]
  },
  {
   "cell_type": "markdown",
   "metadata": {},
   "source": []
  }
 ],
 "metadata": {
  "interpreter": {
   "hash": "80112827eb6ff0e0e99643afeb06c6ff1a42a8eff6a0c89f515b676ff99d7bc7"
  },
  "kernelspec": {
   "display_name": "Python 3.7.13 ('work')",
   "language": "python",
   "name": "python3"
  },
  "language_info": {
   "codemirror_mode": {
    "name": "ipython",
    "version": 3
   },
   "file_extension": ".py",
   "mimetype": "text/x-python",
   "name": "python",
   "nbconvert_exporter": "python",
   "pygments_lexer": "ipython3",
   "version": "3.7.13"
  },
  "orig_nbformat": 4
 },
 "nbformat": 4,
 "nbformat_minor": 2
}
